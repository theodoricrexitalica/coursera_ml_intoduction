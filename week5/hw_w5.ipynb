{
 "cells": [
  {
   "cell_type": "markdown",
   "metadata": {},
   "source": [
    "# Libs"
   ]
  },
  {
   "cell_type": "code",
   "execution_count": 1,
   "metadata": {},
   "outputs": [],
   "source": [
    "import pandas as pd\n",
    "import numpy as np\n",
    "from sklearn.metrics import r2_score\n",
    "from sklearn.ensemble import RandomForestRegressor\n",
    "from sklearn.model_selection import KFold, cross_val_score\n",
    "from tqdm import tqdm\n",
    "from sklearn.ensemble import GradientBoostingClassifier, RandomForestClassifier\n",
    "from sklearn.model_selection import train_test_split\n",
    "from sklearn.metrics import log_loss\n",
    "import matplotlib.pyplot as plt\n",
    "import seaborn as sns\n",
    "from scipy.special import expit"
   ]
  },
  {
   "cell_type": "code",
   "execution_count": 2,
   "metadata": {},
   "outputs": [
    {
     "data": {
      "text/plain": [
       "'1.5.1'"
      ]
     },
     "execution_count": 2,
     "metadata": {},
     "output_type": "execute_result"
    }
   ],
   "source": [
    "import sklearn\n",
    "sklearn.__version__"
   ]
  },
  {
   "cell_type": "markdown",
   "metadata": {},
   "source": [
    "# hw1"
   ]
  },
  {
   "cell_type": "code",
   "execution_count": 3,
   "metadata": {},
   "outputs": [],
   "source": [
    "# В этом задании вам нужно проследить за изменением качества случайного леса в зависимости от количества деревьев в нем.\n",
    "\n",
    "# Загрузите данные из файла abalone.csv. Это датасет, в котором требуется предсказать возраст ракушки (число колец) по физическим измерениям.\n",
    "\n",
    "# Преобразуйте признак Sex в числовой: значение F должно перейти в -1, I — в 0, M — в 1. Если вы используете Pandas, \n",
    "# то подойдет следующий код: data['Sex'] = data['Sex'].map(lambda x: 1 if x == 'M' else (-1 if x == 'F' else 0))\n",
    "\n",
    "# Разделите содержимое файлов на признаки и целевую переменную. В последнем столбце записана целевая переменная, в остальных — признаки.\n",
    "\n",
    "# Обучите случайный лес (sklearn.ensemble.RandomForestRegressor) с различным числом деревьев: от 1 до 50 (не забудьте выставить \n",
    "# \"random_state=1\" в конструкторе). Для каждого из вариантов оцените качество работы полученного леса на кросс-валидации по 5 блокам. \n",
    "# Используйте параметры \"random_state=1\" и \"shuffle=True\" при создании генератора кросс-валидации sklearn.model_selection.KFold.  \n",
    "# В качестве меры качества воспользуйтесь коэффициентом детерминации (sklearn.metrics.r2_score).\n",
    "\n",
    "# Определите, при каком минимальном количестве деревьев случайный лес показывает качество на кросс-валидации выше 0.52. \n",
    "# Это количество и будет ответом на задание.\n",
    "\n",
    "# Обратите внимание на изменение качества по мере роста числа деревьев. Ухудшается ли оно?"
   ]
  },
  {
   "cell_type": "code",
   "execution_count": 4,
   "metadata": {},
   "outputs": [],
   "source": [
    "df = pd.read_csv('abalone.csv')\n",
    "df['Sex'] = df['Sex'].map(lambda x: 1 if x == 'M' else (-1 if x == 'F' else 0))\n",
    "X = np.array(df.iloc[:, :-1])\n",
    "y = np.array(df.iloc[:, -1])"
   ]
  },
  {
   "cell_type": "code",
   "execution_count": 5,
   "metadata": {},
   "outputs": [
    {
     "name": "stdout",
     "output_type": "stream",
     "text": [
      "Number of estimators: 1, Average R2 Score: 0.08335168375920435\n",
      "Number of estimators: 2, Average R2 Score: 0.3269534732940834\n",
      "Number of estimators: 3, Average R2 Score: 0.4051068143516193\n",
      "Number of estimators: 4, Average R2 Score: 0.4422438107254859\n",
      "Number of estimators: 5, Average R2 Score: 0.4519613482963166\n",
      "Number of estimators: 6, Average R2 Score: 0.47125676327389626\n",
      "Number of estimators: 7, Average R2 Score: 0.4765407634813644\n",
      "Number of estimators: 8, Average R2 Score: 0.4823999065481102\n",
      "Number of estimators: 9, Average R2 Score: 0.4894356640226075\n",
      "Number of estimators: 10, Average R2 Score: 0.5039276698000601\n",
      "Number of estimators: 11, Average R2 Score: 0.49795256316194936\n",
      "Number of estimators: 12, Average R2 Score: 0.4961579790374676\n",
      "Number of estimators: 13, Average R2 Score: 0.5081858758311352\n",
      "Number of estimators: 14, Average R2 Score: 0.5008815567488909\n",
      "Number of estimators: 15, Average R2 Score: 0.5038720703996141\n",
      "Number of estimators: 16, Average R2 Score: 0.5093298969089094\n",
      "Number of estimators: 17, Average R2 Score: 0.5157606128713723\n",
      "Number of estimators: 18, Average R2 Score: 0.5063917582864589\n",
      "Number of estimators: 19, Average R2 Score: 0.5231906287226762\n"
     ]
    }
   ],
   "source": [
    "for n_estim in range(1, 51):\n",
    "    model = RandomForestRegressor(n_estimators=n_estim)\n",
    "    kf = KFold(n_splits=5, shuffle=True, random_state=1)\n",
    "    r2_scores = []\n",
    "    for k, (train_index, test_index) in enumerate(kf.split(X)):\n",
    "        X_train, X_test = X[train_index], X[test_index]\n",
    "        y_train, y_test = y[train_index], y[test_index]\n",
    "        model.fit(X_train, y_train)\n",
    "        y_pred = model.predict(X_test)\n",
    "        score = r2_score(y_test, y_pred)\n",
    "        r2_scores.append(score)\n",
    "    avg_r2_score = np.mean(r2_scores)\n",
    "    print(f'Number of estimators: {n_estim}, Average R2 Score: {avg_r2_score}')\n",
    "    if avg_r2_score > 0.52:\n",
    "        break"
   ]
  },
  {
   "cell_type": "code",
   "execution_count": 6,
   "metadata": {},
   "outputs": [
    {
     "name": "stderr",
     "output_type": "stream",
     "text": [
      "100%|██████████| 50/50 [01:20<00:00,  1.60s/it]\n"
     ]
    }
   ],
   "source": [
    "df_lst = []\n",
    "for n_estim in tqdm(range(1, 51)):\n",
    "    clf = RandomForestRegressor(n_estimators=n_estim)\n",
    "    kf = KFold(n_splits=5, shuffle=True, random_state=1)\n",
    "    scores = cross_val_score(clf, X, y, cv=kf, scoring='r2')\n",
    "    df = pd.DataFrame({'n_estimatoes':n_estim, 'r2':scores.mean()}, index=[0])\n",
    "    df_lst.append(df)\n",
    "df = pd.concat(df_lst).reset_index(drop=True)"
   ]
  },
  {
   "cell_type": "code",
   "execution_count": 7,
   "metadata": {},
   "outputs": [
    {
     "data": {
      "text/html": [
       "<div>\n",
       "<style scoped>\n",
       "    .dataframe tbody tr th:only-of-type {\n",
       "        vertical-align: middle;\n",
       "    }\n",
       "\n",
       "    .dataframe tbody tr th {\n",
       "        vertical-align: top;\n",
       "    }\n",
       "\n",
       "    .dataframe thead th {\n",
       "        text-align: right;\n",
       "    }\n",
       "</style>\n",
       "<table border=\"1\" class=\"dataframe\">\n",
       "  <thead>\n",
       "    <tr style=\"text-align: right;\">\n",
       "      <th></th>\n",
       "      <th>n_estimatoes</th>\n",
       "      <th>r2</th>\n",
       "    </tr>\n",
       "  </thead>\n",
       "  <tbody>\n",
       "    <tr>\n",
       "      <th>21</th>\n",
       "      <td>22</td>\n",
       "      <td>0.525165</td>\n",
       "    </tr>\n",
       "    <tr>\n",
       "      <th>22</th>\n",
       "      <td>23</td>\n",
       "      <td>0.522148</td>\n",
       "    </tr>\n",
       "    <tr>\n",
       "      <th>24</th>\n",
       "      <td>25</td>\n",
       "      <td>0.526911</td>\n",
       "    </tr>\n",
       "    <tr>\n",
       "      <th>25</th>\n",
       "      <td>26</td>\n",
       "      <td>0.524174</td>\n",
       "    </tr>\n",
       "    <tr>\n",
       "      <th>26</th>\n",
       "      <td>27</td>\n",
       "      <td>0.520935</td>\n",
       "    </tr>\n",
       "    <tr>\n",
       "      <th>27</th>\n",
       "      <td>28</td>\n",
       "      <td>0.525033</td>\n",
       "    </tr>\n",
       "    <tr>\n",
       "      <th>28</th>\n",
       "      <td>29</td>\n",
       "      <td>0.525548</td>\n",
       "    </tr>\n",
       "    <tr>\n",
       "      <th>29</th>\n",
       "      <td>30</td>\n",
       "      <td>0.523674</td>\n",
       "    </tr>\n",
       "    <tr>\n",
       "      <th>30</th>\n",
       "      <td>31</td>\n",
       "      <td>0.526747</td>\n",
       "    </tr>\n",
       "    <tr>\n",
       "      <th>31</th>\n",
       "      <td>32</td>\n",
       "      <td>0.526708</td>\n",
       "    </tr>\n",
       "    <tr>\n",
       "      <th>32</th>\n",
       "      <td>33</td>\n",
       "      <td>0.525948</td>\n",
       "    </tr>\n",
       "    <tr>\n",
       "      <th>33</th>\n",
       "      <td>34</td>\n",
       "      <td>0.525557</td>\n",
       "    </tr>\n",
       "    <tr>\n",
       "      <th>35</th>\n",
       "      <td>36</td>\n",
       "      <td>0.526193</td>\n",
       "    </tr>\n",
       "    <tr>\n",
       "      <th>36</th>\n",
       "      <td>37</td>\n",
       "      <td>0.528567</td>\n",
       "    </tr>\n",
       "    <tr>\n",
       "      <th>37</th>\n",
       "      <td>38</td>\n",
       "      <td>0.529287</td>\n",
       "    </tr>\n",
       "    <tr>\n",
       "      <th>38</th>\n",
       "      <td>39</td>\n",
       "      <td>0.530984</td>\n",
       "    </tr>\n",
       "    <tr>\n",
       "      <th>39</th>\n",
       "      <td>40</td>\n",
       "      <td>0.525203</td>\n",
       "    </tr>\n",
       "    <tr>\n",
       "      <th>40</th>\n",
       "      <td>41</td>\n",
       "      <td>0.523763</td>\n",
       "    </tr>\n",
       "    <tr>\n",
       "      <th>41</th>\n",
       "      <td>42</td>\n",
       "      <td>0.529601</td>\n",
       "    </tr>\n",
       "    <tr>\n",
       "      <th>42</th>\n",
       "      <td>43</td>\n",
       "      <td>0.530589</td>\n",
       "    </tr>\n",
       "    <tr>\n",
       "      <th>43</th>\n",
       "      <td>44</td>\n",
       "      <td>0.534710</td>\n",
       "    </tr>\n",
       "    <tr>\n",
       "      <th>44</th>\n",
       "      <td>45</td>\n",
       "      <td>0.530563</td>\n",
       "    </tr>\n",
       "    <tr>\n",
       "      <th>45</th>\n",
       "      <td>46</td>\n",
       "      <td>0.526881</td>\n",
       "    </tr>\n",
       "    <tr>\n",
       "      <th>46</th>\n",
       "      <td>47</td>\n",
       "      <td>0.531592</td>\n",
       "    </tr>\n",
       "    <tr>\n",
       "      <th>47</th>\n",
       "      <td>48</td>\n",
       "      <td>0.527468</td>\n",
       "    </tr>\n",
       "    <tr>\n",
       "      <th>48</th>\n",
       "      <td>49</td>\n",
       "      <td>0.527126</td>\n",
       "    </tr>\n",
       "    <tr>\n",
       "      <th>49</th>\n",
       "      <td>50</td>\n",
       "      <td>0.529330</td>\n",
       "    </tr>\n",
       "  </tbody>\n",
       "</table>\n",
       "</div>"
      ],
      "text/plain": [
       "    n_estimatoes        r2\n",
       "21            22  0.525165\n",
       "22            23  0.522148\n",
       "24            25  0.526911\n",
       "25            26  0.524174\n",
       "26            27  0.520935\n",
       "27            28  0.525033\n",
       "28            29  0.525548\n",
       "29            30  0.523674\n",
       "30            31  0.526747\n",
       "31            32  0.526708\n",
       "32            33  0.525948\n",
       "33            34  0.525557\n",
       "35            36  0.526193\n",
       "36            37  0.528567\n",
       "37            38  0.529287\n",
       "38            39  0.530984\n",
       "39            40  0.525203\n",
       "40            41  0.523763\n",
       "41            42  0.529601\n",
       "42            43  0.530589\n",
       "43            44  0.534710\n",
       "44            45  0.530563\n",
       "45            46  0.526881\n",
       "46            47  0.531592\n",
       "47            48  0.527468\n",
       "48            49  0.527126\n",
       "49            50  0.529330"
      ]
     },
     "execution_count": 7,
     "metadata": {},
     "output_type": "execute_result"
    }
   ],
   "source": [
    "# Правильный ответ 24\n",
    "df_v2 = df.sort_values('r2', ascending=False)\n",
    "df_v2[df_v2['r2'] >= 0.52].sort_values('n_estimatoes')"
   ]
  },
  {
   "cell_type": "markdown",
   "metadata": {},
   "source": [
    "# hw2"
   ]
  },
  {
   "cell_type": "code",
   "execution_count": 8,
   "metadata": {},
   "outputs": [],
   "source": [
    "# Инструкция по выполнению\n",
    "# 1. Загрузите выборку из файла gbm-data.csv с помощью pandas и преобразуйте ее в массив numpy (параметр values у датафрейма). \n",
    "# В первой колонке файла с данными записано, была или нет реакция. Все остальные колонки (d1 - d1776) содержат различные \n",
    "# характеристики молекулы, такие как размер, форма и т.д. Разбейте выборку на обучающую и тестовую, используя функцию train_test_split \n",
    "# с параметрами test_size = 0.8 и random_state = 241. \n",
    "\n",
    "# 2. Обучите GradientBoostingClassifier с параметрами n_estimators=250, verbose=True, random_state=241 и для каждого значения \n",
    "# learning_rate из списка [1, 0.5, 0.3, 0.2, 0.1] проделайте следующее:\n",
    "\n",
    "# - Используйте метод staged_decision_function для предсказания качества на обучающей и тестовой выборке на каждой итерации.\n",
    "\n",
    "# - Преобразуйте полученное предсказание с помощью сигмоидной функции по формуле 1 / (1 + e^{−y_pred}), где y_pred — предсказанное значение.\n",
    "\n",
    "# Вычислите и постройте график значений log-loss (которую можно посчитать с помощью функции sklearn.metrics.log_loss) на обучающей и тестовой выборках, \n",
    "# а также найдите минимальное значение метрики и номер итерации, на которой оно достигается.\n",
    "\n",
    "# 3. Как можно охарактеризовать график качества на тестовой выборке, начиная с некоторой итерации: переобучение (overfitting) или недообучение (underfitting)? \n",
    "# В ответе укажите одно из слов overfitting либо underfitting.\n",
    "\n",
    "# 4. Приведите минимальное значение log-loss на тестовой выборке и номер итерации, на котором оно достигается, при learning_rate = 0.2.\n",
    "\n",
    "# 5. На этих же данных обучите RandomForestClassifier с количеством деревьев, равным количеству итераций, на котором достигается наилучшее качество \n",
    "# у градиентного бустинга из предыдущего пункта, c random_state=241 и остальными параметрами по умолчанию. Какое значение log-loss на тесте получается \n",
    "# у этого случайного леса? (Не забывайте, что предсказания нужно получать с помощью функции predict_proba. В данном случае брать сигмоиду от оценки вероятности класса не нужно)\n",
    "\n",
    "# Если ответом является нецелое число, то целую и дробную часть необходимо разграничивать точкой, например, 0.42. При необходимости округляйте дробную часть до двух знаков.\n",
    "\n",
    "# Обратите внимание, что, хотя в градиентного бустинге гораздо более слабые базовые алгоритмы, он выигрывает у случайного леса благодаря более \n",
    "# \"направленной\" настройке — каждый следующий алгоритм исправляет ошибки имеющейся композиции. Также он обучается быстрее случайного леса благодаря \n",
    "# использованию неглубоких деревьев. В то же время, случайный лес может показать более высокое качество при неограниченных ресурсах — так, он выиграет \n",
    "# у градиентного бустинга на наших данных, если увеличить число деревьев до нескольких сотен (проверьте сами!)."
   ]
  },
  {
   "cell_type": "code",
   "execution_count": 10,
   "metadata": {},
   "outputs": [],
   "source": [
    "df = pd.read_csv('gbm-data.csv')\n",
    "y = df.iloc[:, 0].values\n",
    "X = df.iloc[:, 1:].values"
   ]
  },
  {
   "cell_type": "code",
   "execution_count": 11,
   "metadata": {},
   "outputs": [],
   "source": [
    "X_train, X_test, y_train, y_test = train_test_split(X, y, test_size=0.8, random_state=241)"
   ]
  },
  {
   "cell_type": "code",
   "execution_count": 12,
   "metadata": {},
   "outputs": [],
   "source": [
    "model = GradientBoostingClassifier(n_estimators=100, learning_rate=1, random_state=241)\n",
    "model.fit(X_train, y_train)\n",
    "\n",
    "decision_function_lst = []\n",
    "for decision_function in model.staged_decision_function(X_test):\n",
    "    decision_function_lst.append(decision_function)\n",
    "func = 1 / (1 + np.exp(-1*decision_function[-1]))\n",
    "y_pred_proba = expit(decision_function[-1])"
   ]
  },
  {
   "cell_type": "code",
   "execution_count": 13,
   "metadata": {},
   "outputs": [
    {
     "name": "stderr",
     "output_type": "stream",
     "text": [
      "100%|██████████| 5/5 [00:51<00:00, 10.27s/it]\n"
     ]
    }
   ],
   "source": [
    "# Чтобы была возможность оценить качество построенной композиции на каждой итерации, у класса есть метод \n",
    "# staged_decision_function. Для заданной выборки он возвращает ответ на каждой итерации.\n",
    "# Метрика log-loss реализована в пакете metrics: sklearn.metrics.log_loss. \n",
    "# Заметим, что данная метрика предназначена для классификаторов, выдающих оценку принадлежности классу, а не бинарные ответы\n",
    "df_lst_test, df_lst_train, des_func_df_test, des_func_df_train = [], [], [], []\n",
    "for lr in tqdm([1, 0.5, 0.3, 0.2, 0.1]):\n",
    "# for lr in tqdm([1]):\n",
    "    model = GradientBoostingClassifier(n_estimators=250, learning_rate=lr, random_state=241)\n",
    "    model.fit(X_train, y_train)\n",
    "\n",
    "    decision_function_lst_train, func_lst_train = [], []\n",
    "    for decision_function_train in model.staged_decision_function(X_train):\n",
    "        y_pred_proba = expit(decision_function_train[-1])\n",
    "        func = 1 / (1 + np.exp(-1*decision_function_train[-1]))\n",
    "        decision_function_lst_train.append(y_pred_proba[-1])\n",
    "        func_lst_train.append(func[-1])\n",
    "    des_func_df_train.append(pd.DataFrame({'lr':lr, 'decision_function':decision_function_lst_train, 'func':func_lst_train}))\n",
    "\n",
    "    decision_function_lst_test, func_lst_test = [], []\n",
    "    for decision_function_test in model.staged_decision_function(X_test):\n",
    "        y_pred_proba = expit(decision_function_test[-1])\n",
    "        func = 1 / (1 + np.exp(-1*decision_function_test[-1]))\n",
    "        decision_function_lst_test.append(y_pred_proba[-1])\n",
    "        func_lst_test.append(func[-1])\n",
    "    des_func_df_test.append(pd.DataFrame({'lr':lr, 'decision_function':decision_function_lst_test, 'func':func_lst_test}))\n",
    "\n",
    "    # Calculate log loss for each iteration\n",
    "    log_losses_train = []\n",
    "    for y_pred_proba_train in model.staged_predict_proba(X_train):\n",
    "        loss_train = log_loss(y_train, y_pred_proba_train)\n",
    "        log_losses_train.append(loss_train)\n",
    "    df_lst_train.append(pd.DataFrame({'lr':lr, 'log_loss':log_losses_train}))\n",
    "\n",
    "    log_losses_test = []\n",
    "    for y_pred_proba_test in model.staged_predict_proba(X_test):\n",
    "        loss_test = log_loss(y_test, y_pred_proba_test)\n",
    "        log_losses_test.append(loss_test)\n",
    "    df_lst_test.append(pd.DataFrame({'lr':lr, 'log_loss':log_losses_test}))\n",
    "df_test = pd.concat(df_lst_test)\n",
    "df_test['type'] = 'test'\n",
    "df_train = pd.concat(df_lst_train)\n",
    "df_train['type'] = 'train'\n",
    "df = pd.concat([df_test, df_train])\n",
    "dec_func_train = pd.concat(des_func_df_train)\n",
    "dec_func_test = pd.concat(des_func_df_test)\n",
    "dec_func_train['type'] = 'train'\n",
    "dec_func_test['type'] = 'test'\n",
    "dec_func = pd.concat([dec_func_train, dec_func_test])"
   ]
  },
  {
   "cell_type": "code",
   "execution_count": 14,
   "metadata": {},
   "outputs": [
    {
     "data": {
      "text/html": [
       "<div>\n",
       "<style scoped>\n",
       "    .dataframe tbody tr th:only-of-type {\n",
       "        vertical-align: middle;\n",
       "    }\n",
       "\n",
       "    .dataframe tbody tr th {\n",
       "        vertical-align: top;\n",
       "    }\n",
       "\n",
       "    .dataframe thead th {\n",
       "        text-align: right;\n",
       "    }\n",
       "</style>\n",
       "<table border=\"1\" class=\"dataframe\">\n",
       "  <thead>\n",
       "    <tr style=\"text-align: right;\">\n",
       "      <th></th>\n",
       "      <th>lr</th>\n",
       "      <th>log_loss</th>\n",
       "      <th>type</th>\n",
       "    </tr>\n",
       "  </thead>\n",
       "  <tbody>\n",
       "    <tr>\n",
       "      <th>249</th>\n",
       "      <td>1.0</td>\n",
       "      <td>0.000017</td>\n",
       "      <td>train</td>\n",
       "    </tr>\n",
       "    <tr>\n",
       "      <th>248</th>\n",
       "      <td>1.0</td>\n",
       "      <td>0.000018</td>\n",
       "      <td>train</td>\n",
       "    </tr>\n",
       "    <tr>\n",
       "      <th>247</th>\n",
       "      <td>1.0</td>\n",
       "      <td>0.000018</td>\n",
       "      <td>train</td>\n",
       "    </tr>\n",
       "  </tbody>\n",
       "</table>\n",
       "</div>"
      ],
      "text/plain": [
       "      lr  log_loss   type\n",
       "249  1.0  0.000017  train\n",
       "248  1.0  0.000018  train\n",
       "247  1.0  0.000018  train"
      ]
     },
     "execution_count": 14,
     "metadata": {},
     "output_type": "execute_result"
    }
   ],
   "source": [
    "df[df.type=='train'].sort_values('log_loss', ascending=True).head(3)"
   ]
  },
  {
   "cell_type": "code",
   "execution_count": 15,
   "metadata": {},
   "outputs": [
    {
     "data": {
      "text/html": [
       "<div>\n",
       "<style scoped>\n",
       "    .dataframe tbody tr th:only-of-type {\n",
       "        vertical-align: middle;\n",
       "    }\n",
       "\n",
       "    .dataframe tbody tr th {\n",
       "        vertical-align: top;\n",
       "    }\n",
       "\n",
       "    .dataframe thead th {\n",
       "        text-align: right;\n",
       "    }\n",
       "</style>\n",
       "<table border=\"1\" class=\"dataframe\">\n",
       "  <thead>\n",
       "    <tr style=\"text-align: right;\">\n",
       "      <th></th>\n",
       "      <th>lr</th>\n",
       "      <th>log_loss</th>\n",
       "      <th>type</th>\n",
       "    </tr>\n",
       "  </thead>\n",
       "  <tbody>\n",
       "    <tr>\n",
       "      <th>51</th>\n",
       "      <td>0.1</td>\n",
       "      <td>0.525907</td>\n",
       "      <td>test</td>\n",
       "    </tr>\n",
       "    <tr>\n",
       "      <th>50</th>\n",
       "      <td>0.1</td>\n",
       "      <td>0.526075</td>\n",
       "      <td>test</td>\n",
       "    </tr>\n",
       "    <tr>\n",
       "      <th>52</th>\n",
       "      <td>0.1</td>\n",
       "      <td>0.526299</td>\n",
       "      <td>test</td>\n",
       "    </tr>\n",
       "  </tbody>\n",
       "</table>\n",
       "</div>"
      ],
      "text/plain": [
       "     lr  log_loss  type\n",
       "51  0.1  0.525907  test\n",
       "50  0.1  0.526075  test\n",
       "52  0.1  0.526299  test"
      ]
     },
     "execution_count": 15,
     "metadata": {},
     "output_type": "execute_result"
    }
   ],
   "source": [
    "df[df.type=='test'].sort_values('log_loss', ascending=True).head(3)"
   ]
  },
  {
   "cell_type": "code",
   "execution_count": 25,
   "metadata": {},
   "outputs": [
    {
     "data": {
      "text/html": [
       "<div>\n",
       "<style scoped>\n",
       "    .dataframe tbody tr th:only-of-type {\n",
       "        vertical-align: middle;\n",
       "    }\n",
       "\n",
       "    .dataframe tbody tr th {\n",
       "        vertical-align: top;\n",
       "    }\n",
       "\n",
       "    .dataframe thead th {\n",
       "        text-align: right;\n",
       "    }\n",
       "</style>\n",
       "<table border=\"1\" class=\"dataframe\">\n",
       "  <thead>\n",
       "    <tr style=\"text-align: right;\">\n",
       "      <th></th>\n",
       "      <th>lr</th>\n",
       "      <th>log_loss</th>\n",
       "      <th>type</th>\n",
       "    </tr>\n",
       "  </thead>\n",
       "  <tbody>\n",
       "    <tr>\n",
       "      <th>249</th>\n",
       "      <td>0.2</td>\n",
       "      <td>0.02</td>\n",
       "      <td>train</td>\n",
       "    </tr>\n",
       "    <tr>\n",
       "      <th>248</th>\n",
       "      <td>0.2</td>\n",
       "      <td>0.03</td>\n",
       "      <td>train</td>\n",
       "    </tr>\n",
       "    <tr>\n",
       "      <th>247</th>\n",
       "      <td>0.2</td>\n",
       "      <td>0.03</td>\n",
       "      <td>train</td>\n",
       "    </tr>\n",
       "  </tbody>\n",
       "</table>\n",
       "</div>"
      ],
      "text/plain": [
       "      lr  log_loss   type\n",
       "249  0.2      0.02  train\n",
       "248  0.2      0.03  train\n",
       "247  0.2      0.03  train"
      ]
     },
     "execution_count": 25,
     "metadata": {},
     "output_type": "execute_result"
    }
   ],
   "source": [
    "df_02 = df[df.lr==0.2]\n",
    "df_02.sort_values('log_loss', ascending=True).round(2).head(3)"
   ]
  },
  {
   "cell_type": "code",
   "execution_count": 26,
   "metadata": {},
   "outputs": [
    {
     "data": {
      "text/html": [
       "<div>\n",
       "<style scoped>\n",
       "    .dataframe tbody tr th:only-of-type {\n",
       "        vertical-align: middle;\n",
       "    }\n",
       "\n",
       "    .dataframe tbody tr th {\n",
       "        vertical-align: top;\n",
       "    }\n",
       "\n",
       "    .dataframe thead th {\n",
       "        text-align: right;\n",
       "    }\n",
       "</style>\n",
       "<table border=\"1\" class=\"dataframe\">\n",
       "  <thead>\n",
       "    <tr style=\"text-align: right;\">\n",
       "      <th></th>\n",
       "      <th>lr</th>\n",
       "      <th>log_loss</th>\n",
       "      <th>type</th>\n",
       "    </tr>\n",
       "  </thead>\n",
       "  <tbody>\n",
       "    <tr>\n",
       "      <th>36</th>\n",
       "      <td>0.2</td>\n",
       "      <td>0.53</td>\n",
       "      <td>test</td>\n",
       "    </tr>\n",
       "    <tr>\n",
       "      <th>38</th>\n",
       "      <td>0.2</td>\n",
       "      <td>0.53</td>\n",
       "      <td>test</td>\n",
       "    </tr>\n",
       "    <tr>\n",
       "      <th>37</th>\n",
       "      <td>0.2</td>\n",
       "      <td>0.53</td>\n",
       "      <td>test</td>\n",
       "    </tr>\n",
       "  </tbody>\n",
       "</table>\n",
       "</div>"
      ],
      "text/plain": [
       "     lr  log_loss  type\n",
       "36  0.2      0.53  test\n",
       "38  0.2      0.53  test\n",
       "37  0.2      0.53  test"
      ]
     },
     "execution_count": 26,
     "metadata": {},
     "output_type": "execute_result"
    }
   ],
   "source": [
    "df_02 = df[df.lr==0.2]\n",
    "df_02[df_02.type=='test'].sort_values('log_loss', ascending=True).round(2).head(3)"
   ]
  },
  {
   "cell_type": "code",
   "execution_count": 28,
   "metadata": {},
   "outputs": [
    {
     "data": {
      "text/html": [
       "<div>\n",
       "<style scoped>\n",
       "    .dataframe tbody tr th:only-of-type {\n",
       "        vertical-align: middle;\n",
       "    }\n",
       "\n",
       "    .dataframe tbody tr th {\n",
       "        vertical-align: top;\n",
       "    }\n",
       "\n",
       "    .dataframe thead th {\n",
       "        text-align: right;\n",
       "    }\n",
       "</style>\n",
       "<table border=\"1\" class=\"dataframe\">\n",
       "  <thead>\n",
       "    <tr style=\"text-align: right;\">\n",
       "      <th></th>\n",
       "      <th>lr</th>\n",
       "      <th>log_loss</th>\n",
       "      <th>type</th>\n",
       "    </tr>\n",
       "  </thead>\n",
       "  <tbody>\n",
       "    <tr>\n",
       "      <th>0</th>\n",
       "      <td>0.2</td>\n",
       "      <td>0.644018</td>\n",
       "      <td>test</td>\n",
       "    </tr>\n",
       "    <tr>\n",
       "      <th>1</th>\n",
       "      <td>0.2</td>\n",
       "      <td>0.611680</td>\n",
       "      <td>test</td>\n",
       "    </tr>\n",
       "    <tr>\n",
       "      <th>2</th>\n",
       "      <td>0.2</td>\n",
       "      <td>0.590484</td>\n",
       "      <td>test</td>\n",
       "    </tr>\n",
       "    <tr>\n",
       "      <th>3</th>\n",
       "      <td>0.2</td>\n",
       "      <td>0.576736</td>\n",
       "      <td>test</td>\n",
       "    </tr>\n",
       "    <tr>\n",
       "      <th>4</th>\n",
       "      <td>0.2</td>\n",
       "      <td>0.563464</td>\n",
       "      <td>test</td>\n",
       "    </tr>\n",
       "    <tr>\n",
       "      <th>...</th>\n",
       "      <td>...</td>\n",
       "      <td>...</td>\n",
       "      <td>...</td>\n",
       "    </tr>\n",
       "    <tr>\n",
       "      <th>245</th>\n",
       "      <td>0.2</td>\n",
       "      <td>0.654809</td>\n",
       "      <td>test</td>\n",
       "    </tr>\n",
       "    <tr>\n",
       "      <th>246</th>\n",
       "      <td>0.2</td>\n",
       "      <td>0.655795</td>\n",
       "      <td>test</td>\n",
       "    </tr>\n",
       "    <tr>\n",
       "      <th>247</th>\n",
       "      <td>0.2</td>\n",
       "      <td>0.656527</td>\n",
       "      <td>test</td>\n",
       "    </tr>\n",
       "    <tr>\n",
       "      <th>248</th>\n",
       "      <td>0.2</td>\n",
       "      <td>0.656843</td>\n",
       "      <td>test</td>\n",
       "    </tr>\n",
       "    <tr>\n",
       "      <th>249</th>\n",
       "      <td>0.2</td>\n",
       "      <td>0.657927</td>\n",
       "      <td>test</td>\n",
       "    </tr>\n",
       "  </tbody>\n",
       "</table>\n",
       "<p>250 rows × 3 columns</p>\n",
       "</div>"
      ],
      "text/plain": [
       "      lr  log_loss  type\n",
       "0    0.2  0.644018  test\n",
       "1    0.2  0.611680  test\n",
       "2    0.2  0.590484  test\n",
       "3    0.2  0.576736  test\n",
       "4    0.2  0.563464  test\n",
       "..   ...       ...   ...\n",
       "245  0.2  0.654809  test\n",
       "246  0.2  0.655795  test\n",
       "247  0.2  0.656527  test\n",
       "248  0.2  0.656843  test\n",
       "249  0.2  0.657927  test\n",
       "\n",
       "[250 rows x 3 columns]"
      ]
     },
     "execution_count": 28,
     "metadata": {},
     "output_type": "execute_result"
    }
   ],
   "source": [
    "df_02[df_02.type=='test']"
   ]
  },
  {
   "cell_type": "code",
   "execution_count": null,
   "metadata": {},
   "outputs": [
    {
     "data": {
      "text/plain": [
       "<Axes: xlabel='None', ylabel='func'>"
      ]
     },
     "execution_count": 106,
     "metadata": {},
     "output_type": "execute_result"
    },
    {
     "data": {
      "image/png": "[encoded data removed]",
      "text/plain": [
       "<Figure size 1500x500 with 2 Axes>"
      ]
     },
     "metadata": {},
     "output_type": "display_data"
    }
   ],
   "source": [
    "# Training vs. Testing Log Loss: It's important to compare the log_loss on both the training and testing datasets. \n",
    "# A significantly lower log_loss on the training set compared to the testing set may indicate overfitting.\n",
    "\n",
    "fig, ax = plt.subplots(1, 2, figsize=(15, 5))\n",
    "sns.lineplot(data=df, x=df.index, y='log_loss', hue='lr', style='type', palette='bright', ax=ax[0])\n",
    "sns.lineplot(data=dec_func, x=dec_func.index, y='func', hue='lr', style='type', palette='bright', ax=ax[1])\n",
    "# sns.lineplot(data=dec_func, x=dec_func.index, y='decision_function', hue='lr', ls='-.', palette='bright', ax=ax[1])"
   ]
  },
  {
   "cell_type": "code",
   "execution_count": null,
   "metadata": {},
   "outputs": [
    {
     "data": {
      "image/png": "[encoded data removed]",
      "text/plain": [
       "<Figure size 640x480 with 1 Axes>"
      ]
     },
     "metadata": {},
     "output_type": "display_data"
    }
   ],
   "source": [
    "sns.lineplot(data=df_02, x=df_02.index, y='log_loss', hue='lr', style='type', palette='bright')\n",
    "plt.vlines(x=37, ymin=0, ymax=0.7, color='red', ls='--')\n",
    "plt.hlines(y=0.530633, xmin=0, xmax=250, color='green', ls='--')\n",
    "plt.grid()"
   ]
  },
  {
   "cell_type": "code",
   "execution_count": null,
   "metadata": {},
   "outputs": [],
   "source": [
    "# 5. На этих же данных обучите RandomForestClassifier с количеством деревьев, равным количеству итераций, на котором достигается наилучшее качество \n",
    "# у градиентного бустинга из предыдущего пункта, c random_state=241 и остальными параметрами по умолчанию. Какое значение log-loss на тесте получается \n",
    "# у этого случайного леса? (Не забывайте, что предсказания нужно получать с помощью функции predict_proba. В данном случае брать сигмоиду от оценки вероятности класса не нужно)"
   ]
  },
  {
   "cell_type": "code",
   "execution_count": null,
   "metadata": {},
   "outputs": [],
   "source": [
    "# df_rfc_lst = []\n",
    "# for i in tqdm(range(1, 250)):\n",
    "model = RandomForestClassifier(n_estimators=37, random_state=241)\n",
    "model.fit(X_train, y_train)\n",
    "loss_train = log_loss(y_train, model.predict_proba(X_train))\n",
    "loss_test = log_loss(y_test, model.predict_proba(X_test))\n",
    "    # print(f'Number of estimators: {i}, Log Loss Train: {loss_train}, Log Loss Test: {loss_test}')\n",
    "    # df_rfc = pd.DataFrame({'n_estimators':i, 'log_loss_train':loss_train, 'log_loss_test':loss_test}, index=[0])\n",
    "    # df_rfc_lst.append(df_rfc)\n",
    "# df_rfc = pd.concat(df_rfc_lst).reset_index(drop=True)"
   ]
  },
  {
   "cell_type": "code",
   "execution_count": null,
   "metadata": {},
   "outputs": [],
   "source": [
    "loss_test"
   ]
  }
 ],
 "metadata": {
  "kernelspec": {
   "display_name": "Python 3",
   "language": "python",
   "name": "python3"
  },
  "language_info": {
   "codemirror_mode": {
    "name": "ipython",
    "version": 3
   },
   "file_extension": ".py",
   "mimetype": "text/x-python",
   "name": "python",
   "nbconvert_exporter": "python",
   "pygments_lexer": "ipython3",
   "version": "3.11.5"
  }
 },
 "nbformat": 4,
 "nbformat_minor": 2
}
