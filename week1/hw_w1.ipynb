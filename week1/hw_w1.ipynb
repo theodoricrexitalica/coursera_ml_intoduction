{
 "cells": [
  {
   "cell_type": "markdown",
   "metadata": {},
   "source": [
    "# Libs"
   ]
  },
  {
   "cell_type": "code",
   "execution_count": 1,
   "metadata": {},
   "outputs": [],
   "source": [
    "import pandas as pd\n",
    "import numpy as np\n",
    "from sklearn.tree import DecisionTreeClassifier"
   ]
  },
  {
   "cell_type": "code",
   "execution_count": 2,
   "metadata": {},
   "outputs": [
    {
     "data": {
      "text/plain": [
       "Index(['PassengerId', 'Survived', 'Pclass', 'Name', 'Sex', 'Age', 'SibSp',\n",
       "       'Parch', 'Ticket', 'Fare', 'Cabin', 'Embarked'],\n",
       "      dtype='object')"
      ]
     },
     "execution_count": 2,
     "metadata": {},
     "output_type": "execute_result"
    }
   ],
   "source": [
    "df = pd.read_csv('titanic.csv')\n",
    "df.columns"
   ]
  },
  {
   "cell_type": "markdown",
   "metadata": {},
   "source": [
    "# hw 1"
   ]
  },
  {
   "cell_type": "code",
   "execution_count": null,
   "metadata": {},
   "outputs": [],
   "source": [
    "# Какое количество мужчин и женщин ехало на корабле? В качестве ответа приведите два числа через пробел.\n",
    "\n",
    "# Какой части пассажиров удалось выжить? Посчитайте долю выживших пассажиров. \n",
    "# Ответ приведите в процентах (число в интервале от 0 до 100, знак процента не нужен), округлив до двух знаков.\n",
    "\n",
    "# Какую долю пассажиры первого класса составляли среди всех пассажиров? Ответ приведите в процентах \n",
    "# (число в интервале от 0 до 100, знак процента не нужен), округлив до двух знаков.\n",
    "\n",
    "# Какого возраста были пассажиры? Посчитайте среднее и медиану возраста пассажиров. \n",
    "# В качестве ответа приведите два числа через пробел.\n",
    "\n",
    "# Коррелируют ли число братьев/сестер/супругов с числом родителей/детей? \n",
    "# Посчитайте корреляцию Пирсона между признаками SibSp и Parch.\n",
    "\n",
    "# Какое самое популярное женское имя на корабле? Извлеките из полного имени пассажира (колонка Name) \n",
    "# его личное имя (First Name). Это задание — типичный пример того, с чем сталкивается специалист по анализу данных. \n",
    "# Данные очень разнородные и шумные, но из них требуется извлечь необходимую информацию. \n",
    "# Попробуйте вручную разобрать несколько значений столбца Name и выработать правило для извлечения имен, \n",
    "# а также разделения их на женские и мужские."
   ]
  },
  {
   "cell_type": "code",
   "execution_count": 7,
   "metadata": {},
   "outputs": [
    {
     "data": {
      "text/plain": [
       "Sex\n",
       "male      577\n",
       "female    314\n",
       "Name: count, dtype: int64"
      ]
     },
     "execution_count": 7,
     "metadata": {},
     "output_type": "execute_result"
    }
   ],
   "source": [
    "df.Sex.value_counts()"
   ]
  },
  {
   "cell_type": "code",
   "execution_count": 24,
   "metadata": {},
   "outputs": [
    {
     "data": {
      "text/plain": [
       "38.38"
      ]
     },
     "execution_count": 24,
     "metadata": {},
     "output_type": "execute_result"
    }
   ],
   "source": [
    "total = df.PassengerId.count()\n",
    "surv = df[df.Survived==1].Survived.count()\n",
    "survived = round((surv/total)*100,2)\n",
    "survived"
   ]
  },
  {
   "cell_type": "code",
   "execution_count": 23,
   "metadata": {},
   "outputs": [
    {
     "data": {
      "text/plain": [
       "24.24"
      ]
     },
     "execution_count": 23,
     "metadata": {},
     "output_type": "execute_result"
    }
   ],
   "source": [
    "first_class = df[df.Pclass==1].Pclass.count()\n",
    "first_class = round((first_class/total)*100,2)\n",
    "first_class"
   ]
  },
  {
   "cell_type": "code",
   "execution_count": 124,
   "metadata": {},
   "outputs": [
    {
     "data": {
      "text/plain": [
       "(29.7, 28.0)"
      ]
     },
     "execution_count": 124,
     "metadata": {},
     "output_type": "execute_result"
    }
   ],
   "source": [
    "age = round(df.Age.mean(),2)\n",
    "age_p50 = round(df.Age.median(),2)\n",
    "age, age_p50"
   ]
  },
  {
   "cell_type": "code",
   "execution_count": 36,
   "metadata": {},
   "outputs": [
    {
     "data": {
      "text/plain": [
       "0.41"
      ]
     },
     "execution_count": 36,
     "metadata": {},
     "output_type": "execute_result"
    }
   ],
   "source": [
    "correl = df.SibSp.corr(df.Parch, method='pearson').round(2)\n",
    "correl"
   ]
  },
  {
   "cell_type": "code",
   "execution_count": 123,
   "metadata": {},
   "outputs": [
    {
     "data": {
      "text/plain": [
       "names_v3\n",
       "Anna          15\n",
       "Mary          14\n",
       "Elizabeth     11\n",
       "Margaret      10\n",
       "Alice          6\n",
       "              ..\n",
       "Sylvia         1\n",
       "Hilda          1\n",
       "Margaretta     1\n",
       "Miriam         1\n",
       "Gerda          1\n",
       "Name: count, Length: 177, dtype: int64"
      ]
     },
     "execution_count": 123,
     "metadata": {},
     "output_type": "execute_result"
    }
   ],
   "source": [
    "names = df.Name.str.split(',').str[1]\n",
    "contractions = names.str.split('.').str[0]\n",
    "names_v2 = names.str.split('.').str[1]\n",
    "contractions.value_counts()\n",
    "female_contrs = [' Miss', ' Mrs', ' Mme', ' Mlle', ' Ms', ' Lady', ' the Countess', ' Mme']\n",
    "names = pd.DataFrame(names)\n",
    "names['names_v2'] = names_v2.str.strip()\n",
    "names['contractions'] = contractions\n",
    "names['sex'] = 'male'\n",
    "names.loc[names.contractions.isin(female_contrs), 'sex'] = 'female'\n",
    "fem_names = names[names.sex == 'female']\n",
    "names['row'] = 'ok'\n",
    "names.loc[names.names_v2.str.contains('\\\\('), 'row'] = 'parse'\n",
    "names_parse = names[names.row == 'parse']\n",
    "names_v3 = names_parse.names_v2.str.split('(').str[1].str.split(')').str[0]\n",
    "names_v4 = names.join(names_v3, rsuffix = '_left')\n",
    "names_v4.loc[names_v4.row == 'parse', 'names_v2'] = names_v4.names_v2_left\n",
    "names_v4 = names_v4.drop(columns=['names_v2_left', 'row'])\n",
    "names_v4 = names_v4.rename(columns={'Name': 'names'})\n",
    "names_v4['names_v3'] = names_v4.names_v2.str.split(' ').str[0]\n",
    "names_v4[names_v4.sex == 'female'].names_v3.value_counts()\n"
   ]
  },
  {
   "cell_type": "code",
   "execution_count": 126,
   "metadata": {},
   "outputs": [],
   "source": [
    "import datetime"
   ]
  },
  {
   "cell_type": "code",
   "execution_count": 176,
   "metadata": {},
   "outputs": [
    {
     "data": {
      "text/plain": [
       "0.0"
      ]
     },
     "execution_count": 176,
     "metadata": {},
     "output_type": "execute_result"
    }
   ],
   "source": [
    "def calc_angel(t: datetime.time) -> float:\n",
    "    h = t.hour\n",
    "    if h > 12:\n",
    "        h = h - 12\n",
    "    hour_angle = 0.5*h*60\n",
    "    minute_angle = 6*t.minute\n",
    "    angle = abs(hour_angle - minute_angle)\n",
    "    return angle\n",
    "calc_angel(datetime.time(11, 55))"
   ]
  },
  {
   "cell_type": "code",
   "execution_count": 178,
   "metadata": {},
   "outputs": [
    {
     "data": {
      "text/plain": [
       "75.0"
      ]
     },
     "execution_count": 178,
     "metadata": {},
     "output_type": "execute_result"
    }
   ],
   "source": [
    "def calc_angel_v2(t: datetime.time) -> float:\n",
    "    h = t.hour\n",
    "    if h > 12:\n",
    "        h = h - 12\n",
    "    hour_angle = 0.5*(h*60 + t.minute)\n",
    "    minute_angle = 6*t.minute\n",
    "    angel = abs(hour_angle - minute_angle)   \n",
    "    return min(360 - angel, angel)\n",
    "calc_angel_v2(datetime.time(3, 30))"
   ]
  },
  {
   "cell_type": "markdown",
   "metadata": {},
   "source": [
    "# hw 2"
   ]
  },
  {
   "cell_type": "code",
   "execution_count": null,
   "metadata": {},
   "outputs": [],
   "source": [
    "# Загрузите выборку из файла titanic.csv с помощью пакета Pandas.\n",
    "\n",
    "# Оставьте в выборке четыре признака: класс пассажира (Pclass), цену билета (Fare), возраст пассажира (Age) и его пол (Sex).\n",
    "\n",
    "# Обратите внимание, что признак Sex имеет строковые значения.\n",
    "\n",
    "# Выделите целевую переменную — она записана в столбце Survived.\n",
    "\n",
    "# В данных есть пропущенные значения — например, для некоторых пассажиров неизвестен их возраст. \n",
    "# Такие записи при чтении их в pandas принимают значение nan. Найдите все объекты, у которых есть \n",
    "# пропущенные признаки, и удалите их из выборки. \n",
    "\n",
    "# Обучите решающее дерево с параметром random_state=241 и остальными параметрами по умолчанию \n",
    "# (речь идет о параметрах конструктора DecisionTreeСlassifier).\n",
    "\n",
    "# Вычислите важности признаков и найдите два признака с наибольшей важностью. Их названия будут ответами для \n",
    "# данной задачи (в качестве ответа укажите названия признаков через запятую или пробел, порядок не важен). "
   ]
  },
  {
   "cell_type": "code",
   "execution_count": 58,
   "metadata": {},
   "outputs": [
    {
     "name": "stdout",
     "output_type": "stream",
     "text": [
      "(891, 12) (714, 5)\n"
     ]
    }
   ],
   "source": [
    "df_notna = df[df.Age.notna()]\n",
    "df_encoded = pd.get_dummies(df_notna, columns=['Sex'])\n",
    "df_encoded = df_encoded[['Sex_male','Sex_female']]\n",
    "df_notna = df_notna[['Pclass', 'Fare', 'Age', 'Survived']]\n",
    "X = df_notna.join(df_encoded).drop(columns=['Survived'])\n",
    "print(df.shape, X.shape)\n",
    "y = df_notna['Survived']"
   ]
  },
  {
   "cell_type": "code",
   "execution_count": 59,
   "metadata": {},
   "outputs": [],
   "source": [
    "clf = DecisionTreeClassifier(random_state=241)\n",
    "clf.fit(X, y)\n",
    "importances = clf.feature_importances_"
   ]
  },
  {
   "cell_type": "code",
   "execution_count": 60,
   "metadata": {},
   "outputs": [
    {
     "data": {
      "text/html": [
       "<div>\n",
       "<style scoped>\n",
       "    .dataframe tbody tr th:only-of-type {\n",
       "        vertical-align: middle;\n",
       "    }\n",
       "\n",
       "    .dataframe tbody tr th {\n",
       "        vertical-align: top;\n",
       "    }\n",
       "\n",
       "    .dataframe thead th {\n",
       "        text-align: right;\n",
       "    }\n",
       "</style>\n",
       "<table border=\"1\" class=\"dataframe\">\n",
       "  <thead>\n",
       "    <tr style=\"text-align: right;\">\n",
       "      <th></th>\n",
       "      <th>feature</th>\n",
       "      <th>importance</th>\n",
       "    </tr>\n",
       "  </thead>\n",
       "  <tbody>\n",
       "    <tr>\n",
       "      <th>4</th>\n",
       "      <td>Sex_female</td>\n",
       "      <td>0.300512</td>\n",
       "    </tr>\n",
       "    <tr>\n",
       "      <th>1</th>\n",
       "      <td>Fare</td>\n",
       "      <td>0.300485</td>\n",
       "    </tr>\n",
       "    <tr>\n",
       "      <th>2</th>\n",
       "      <td>Age</td>\n",
       "      <td>0.253488</td>\n",
       "    </tr>\n",
       "    <tr>\n",
       "      <th>0</th>\n",
       "      <td>Pclass</td>\n",
       "      <td>0.145515</td>\n",
       "    </tr>\n",
       "    <tr>\n",
       "      <th>3</th>\n",
       "      <td>Sex_male</td>\n",
       "      <td>0.0</td>\n",
       "    </tr>\n",
       "  </tbody>\n",
       "</table>\n",
       "</div>"
      ],
      "text/plain": [
       "      feature importance\n",
       "4  Sex_female   0.300512\n",
       "1        Fare   0.300485\n",
       "2         Age   0.253488\n",
       "0      Pclass   0.145515\n",
       "3    Sex_male        0.0"
      ]
     },
     "execution_count": 60,
     "metadata": {},
     "output_type": "execute_result"
    }
   ],
   "source": [
    "imp_v1 = pd.DataFrame([X.columns, importances]).T\n",
    "imp_v1.columns = ['feature', 'importance']\n",
    "imp_v1.sort_values(by='importance', ascending=False)"
   ]
  },
  {
   "cell_type": "code",
   "execution_count": null,
   "metadata": {},
   "outputs": [],
   "source": []
  },
  {
   "cell_type": "code",
   "execution_count": null,
   "metadata": {},
   "outputs": [],
   "source": []
  }
 ],
 "metadata": {
  "kernelspec": {
   "display_name": "Python 3",
   "language": "python",
   "name": "python3"
  },
  "language_info": {
   "codemirror_mode": {
    "name": "ipython",
    "version": 3
   },
   "file_extension": ".py",
   "mimetype": "text/x-python",
   "name": "python",
   "nbconvert_exporter": "python",
   "pygments_lexer": "ipython3",
   "version": "3.12.1"
  }
 },
 "nbformat": 4,
 "nbformat_minor": 2
}
